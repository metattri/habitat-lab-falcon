{
 "cells": [
  {
   "cell_type": "markdown",
   "metadata": {},
   "source": [
    "# Post-Training Weight Handling"
   ]
  },
  {
   "cell_type": "markdown",
   "metadata": {},
   "source": [
    "After completing the training, you need to process the generated weights before using them for evaluation or deployment. For detailed operation steps, refer to the `pretrained_model_transfer.ipynb` notebook.\n",
    "\n",
    "Two key points require special attention during the weight processing:\n",
    "\n",
    "1. **For Multi-Agent Environments**: Only retain the weights trained for the primary agent (with index = 0). Discard or ignore weights corresponding to other agents, as the evaluation pipeline typically focuses on the primary agent's performance.\n",
    "2. **For Auxiliary Tasks**: If auxiliary tasks (e.g., pedestrian future trajectory prediction) were used during training, the auxiliary network components must be removed from the weight file. This is because auxiliary information (such as pedestrian future trajectory data) is not available in the evaluation phase, and retaining the auxiliary network will cause runtime errors or incorrect inference results."
   ]
  },
  {
   "cell_type": "code",
   "execution_count": null,
   "metadata": {},
   "outputs": [],
   "source": [
    "import torch\n",
    "\n",
    "checkpoint_path_v0 = \"/app/Falcon/pretrained_model/falcon_pretrained_25.pth\" \n",
    "pretrained_state = torch.load(checkpoint_path_v0)\n",
    "model_state_dict = pretrained_state[0]['state_dict']\n",
    "\n",
    "filtered_pretrained_state_dict = {\n",
    "    k: v for k, v in pretrained_state[0]['state_dict'].items() \n",
    "    if not k.startswith('aux_loss_modules')\n",
    "}\n",
    "\n",
    "pretrained_state[0]['state_dict'] = filtered_pretrained_state_dict\n",
    "torch.save(pretrained_state, '/app/Falcon/pretrained_model/falcon_noaux_25_v2.pth')\n",
    "\n",
    "checkpoint_path_v1 = \"/app/Falcon/pretrained_model/falcon_noaux_25.pth\" \n",
    "checkpoint_path_v2 = \"/app/Falcon/pretrained_model/falcon_noaux_25_v2.pth\" \n",
    "processed_state_v1 = torch.load(checkpoint_path_v1)\n",
    "processed_state_v2 = torch.load(checkpoint_path_v2)\n",
    "\n",
    "len_v1=len(processed_state_v1[0]['state_dict'])\n",
    "len_v2=len(processed_state_v2[0]['state_dict'])\n",
    "if len_v1 == len_v2:\n",
    "    print(\"Get the same weights between processed_state_v1 and processed_state_v2\")\n",
    "else:\n",
    "    print(\"Weights are different between processed_state_v1 and processed_state_v2\")"
   ]
  }
 ],
 "metadata": {
  "language_info": {
   "name": "python"
  }
 },
 "nbformat": 4,
 "nbformat_minor": 2
}
